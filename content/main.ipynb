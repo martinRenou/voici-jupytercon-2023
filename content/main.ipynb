{
 "cells": [
  {
   "cell_type": "markdown",
   "metadata": {
    "slideshow": {
     "slide_type": "slide"
    },
    "tags": []
   },
   "source": [
    "<center><img src=\"https://github.com/voila-dashboards/voila/raw/main/docs/source/voila-logo.svg\">\n",
    "    \n",
    "<hr>\n",
    "\n",
    "<center><h3>https://martinrenou.github.io/voici-jupytercon-2023/voici</h3>\n",
    "<center><img src=\"https://user-images.githubusercontent.com/21197331/233947904-79cfe675-6adc-49a0-a7a2-d3acbcda5f26.svg\">"
   ]
  },
  {
   "cell_type": "markdown",
   "metadata": {
    "slideshow": {
     "slide_type": "slide"
    },
    "tags": []
   },
   "source": [
    "# About us\n",
    "\n",
    "<hr>\n",
    "\n",
    "<center><img src=\"https://quantstack.net/img/avatar/Trung.jpg\" width=\"150\" height=\"100\" style=\"border-radius: 50%;;box-shadow: 2px 2px 2px 1px rgb(200, 200, 200);\"/></center>\n",
    "<center>Le Duc Trung - Scientific Software Developer at QuantStack - Voilà core contributor</center>\n",
    "<center><a href=\"https://twitter.com/trung_leduc\"><i class=\"fab fa-twitter\"></i> @trung_leduc</a> / <a href=\"https://github.com/trungleduc\"><i class=\"fa fa-github\"></i> @trungleduc</a> / <a href=\"https://www.linkedin.com/in/ductrung-le\"><i class=\"fa fa-linkedin\"></i> @ductrung-le</a></center>\n",
    "\n",
    "<hr>\n",
    "\n",
    "<center><img src=\"https://quantstack.net/img/avatar/Martin.jpg\" width=\"150\" height=\"100\" style=\"border-radius: 50%;box-shadow: 2px 2px 2px 1px rgb(200, 200, 200);\"/></center>\n",
    "<center>Renou Martin - Technical Director at QuantStack - Voilà Project Manager</center>\n",
    "<center><a href=\"https://twitter.com/martinRenou\"><i class=\"fab fa-twitter\"></i> @martinRenou</a> / <a href=\"https://github.com/martinRenou\"><i class=\"fa fa-github\"></i> @martinRenou</a> / <a href=\"https://www.linkedin.com/in/martin-renou/\"><i class=\"fa fa-linkedin\"></i> @martin-renou</a></center>\n",
    "\n",
    "<hr>"
   ]
  },
  {
   "cell_type": "markdown",
   "metadata": {
    "slideshow": {
     "slide_type": "slide"
    },
    "tags": []
   },
   "source": [
    "# What is Voilà?\n",
    "\n",
    "- Turns your Jupyter Notebooks into interactive dashboards\n",
    "- A very simple CLI interface *e.g.* `voila notebook.ipynb`, no change to your Notebook required!\n",
    "- An extensible templating system based on Jinja"
   ]
  },
  {
   "cell_type": "code",
   "execution_count": null,
   "metadata": {
    "slideshow": {
     "slide_type": "slide"
    },
    "tags": []
   },
   "outputs": [],
   "source": [
    "import this"
   ]
  },
  {
   "cell_type": "code",
   "execution_count": null,
   "metadata": {
    "slideshow": {
     "slide_type": "slide"
    },
    "tags": []
   },
   "outputs": [],
   "source": [
    "import ipywidgets as widgets\n",
    "\n",
    "slider = widgets.FloatSlider(description='$x$')\n",
    "text = widgets.FloatText(disabled=True, description='$x^2$')\n",
    "\n",
    "def compute(*ignore):\n",
    "    text.value = str(slider.value ** 2)\n",
    "\n",
    "slider.observe(compute, 'value')\n",
    "\n",
    "slider.value = 4\n",
    "\n",
    "widgets.VBox([slider, text])"
   ]
  },
  {
   "cell_type": "code",
   "execution_count": null,
   "metadata": {
    "slideshow": {
     "slide_type": "slide"
    },
    "tags": []
   },
   "outputs": [],
   "source": [
    "# TODO improve this example and make it more interactive\n",
    "\n",
    "import bqplot.pyplot as plt\n",
    "import numpy as np\n",
    "\n",
    "np.random.seed(10)\n",
    "\n",
    "fig = plt.figure(title=\"Bar Chart\")\n",
    "\n",
    "x = list(\"ABCDE\")\n",
    "y = np.random.rand(5)\n",
    "\n",
    "bar = plt.bar(x, y)\n",
    "\n",
    "fig"
   ]
  },
  {
   "cell_type": "code",
   "execution_count": null,
   "metadata": {
    "slideshow": {
     "slide_type": "skip"
    },
    "tags": []
   },
   "outputs": [],
   "source": [
    "# TODO Add more examples (plotly altair etc)"
   ]
  },
  {
   "cell_type": "markdown",
   "metadata": {
    "slideshow": {
     "slide_type": "slide"
    },
    "tags": []
   },
   "source": [
    "# `voila` CLI demo"
   ]
  },
  {
   "cell_type": "markdown",
   "metadata": {
    "slideshow": {
     "slide_type": "slide"
    },
    "tags": []
   },
   "source": [
    "# Templating\n",
    "\n",
    "- Reveal template TODO link + screenshot\n",
    "- GridStack template TODO link + screenshot\n",
    "- Vuetify template TODO link + screenshot"
   ]
  },
  {
   "cell_type": "markdown",
   "metadata": {
    "slideshow": {
     "slide_type": "slide"
    },
    "tags": []
   },
   "source": [
    "# Pre-heated kernels\n",
    "- It help diminish the waiting time for starting a new python kernel and for executing the requested notebook.\n",
    "## Fully pre-executed notebook\n",
    "<img src=\"https://miro.medium.com/v2/1*djVMI5ujhEq6xVbYJNzuuA.gif\"  width=\"1000\">"
   ]
  },
  {
   "cell_type": "markdown",
   "metadata": {
    "slideshow": {
     "slide_type": "slide"
    },
    "tags": []
   },
   "source": [
    "# Pre-heated kernels\n",
    "- It help diminish the waiting time for starting a new python kernel and for executing the requested notebook.\n",
    "## Partially pre-executed notebook\n",
    "<img src=\"https://miro.medium.com/v2/1*Gwq82pb0qAInlPUJm_-JYA.gif\"  width=\"1000\">"
   ]
  },
  {
   "cell_type": "markdown",
   "metadata": {
    "slideshow": {
     "slide_type": "slide"
    },
    "tags": []
   },
   "source": [
    "# Dashboards Gallery\n",
    "\n",
    "https://voila-gallery.org\n",
    "\n",
    "Contribute your dashboards!"
   ]
  },
  {
   "cell_type": "markdown",
   "metadata": {
    "slideshow": {
     "slide_type": "slide"
    },
    "tags": []
   },
   "source": [
    "# Voilà 0.5.0 🏁\n",
    "\n",
    "What's new?! \n",
    "\n",
    "- Similar to the ongoing Jupyter Notebook v7 work: A front-end closer to the JupyterLab ecosystem! \n",
    "- Making use of the JupyterLab mimerendering logic: Support for custom JupyterLab renderers (fasta, vega, geojson, bokeh, and many more!)\n",
    "- Jupyter server v2 support"
   ]
  },
  {
   "cell_type": "markdown",
   "metadata": {
    "slideshow": {
     "slide_type": "slide"
    },
    "tags": []
   },
   "source": [
    "# About JupyterLite 💡\n",
    "\n",
    "TODO"
   ]
  },
  {
   "cell_type": "markdown",
   "metadata": {
    "slideshow": {
     "slide_type": "slide"
    },
    "tags": []
   },
   "source": [
    "# Introducing `Voici`!\n",
    "\n",
    "## Voici is: \n",
    "- another way to say \"Voilà\" in French\n",
    "- voici turns any Jupyter Notebook into a static web application\n",
    "- the perfect match between Voilà and JupyterLite 💡\n"
   ]
  },
  {
   "cell_type": "markdown",
   "metadata": {
    "slideshow": {
     "slide_type": "slide"
    },
    "tags": []
   },
   "source": [
    "# `voici` CLI demo"
   ]
  },
  {
   "cell_type": "markdown",
   "metadata": {
    "slideshow": {
     "slide_type": "slide"
    },
    "tags": []
   },
   "source": [
    "# Dashboards Gallery\n",
    "\n",
    "https://voila-dashboards.github.io/voici-gallery/\n",
    "\n",
    "Contribute your dashboards!"
   ]
  }
 ],
 "metadata": {
  "kernelspec": {
   "display_name": "Python 3 (ipykernel)",
   "language": "python",
   "name": "python3"
  },
  "language_info": {
   "codemirror_mode": {
    "name": "ipython",
    "version": 3
   },
   "file_extension": ".py",
   "mimetype": "text/x-python",
   "name": "python",
   "nbconvert_exporter": "python",
   "pygments_lexer": "ipython3",
   "version": "3.10.10"
  }
 },
 "nbformat": 4,
 "nbformat_minor": 4
}
