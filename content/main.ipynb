{
 "cells": [
  {
   "cell_type": "markdown",
   "metadata": {
    "slideshow": {
     "slide_type": "slide"
    },
    "tags": []
   },
   "source": [
    "<center><img src=\"https://github.com/voila-dashboards/voila/raw/main/docs/source/voila-logo.svg\">\n",
    "    \n",
    "<hr>\n",
    "\n",
    "<center><h3>https://martinrenou.github.io/voici-jupytercon-2023/voici</h3>\n",
    "<center><img src=\"https://user-images.githubusercontent.com/4451292/236253778-c9b4aae7-9a47-4846-9fb1-70515718b062.svg\"  width=\"400\">"
   ]
  },
  {
   "cell_type": "markdown",
   "metadata": {
    "slideshow": {
     "slide_type": "slide"
    },
    "tags": []
   },
   "source": [
    "# About us\n",
    "\n",
    "<hr>\n",
    "\n",
    "<center><img src=\"https://quantstack.net/img/avatar/Trung.jpg\" width=\"150\" height=\"100\" style=\"border-radius: 50%;;box-shadow: 2px 2px 2px 1px rgb(200, 200, 200);\"/></center>\n",
    "<center>Le Duc Trung - Scientific Software Developer at QuantStack - Voilà core contributor</center>\n",
    "<center><a href=\"https://twitter.com/trung_leduc\"><i class=\"fab fa-twitter\"></i> @trung_leduc</a> / <a href=\"https://github.com/trungleduc\"><i class=\"fa fa-github\"></i> @trungleduc</a> / <a href=\"https://www.linkedin.com/in/ductrung-le\"><i class=\"fa fa-linkedin\"></i> @ductrung-le</a></center>\n",
    "\n",
    "<hr>\n",
    "\n",
    "<center><img src=\"https://quantstack.net/img/avatar/Martin.jpg\" width=\"150\" height=\"100\" style=\"border-radius: 50%;box-shadow: 2px 2px 2px 1px rgb(200, 200, 200);\"/></center>\n",
    "<center>Renou Martin - Technical Director at QuantStack - Voilà Project Manager</center>\n",
    "<center><a href=\"https://twitter.com/martinRenou\"><i class=\"fab fa-twitter\"></i> @martinRenou</a> / <a href=\"https://github.com/martinRenou\"><i class=\"fa fa-github\"></i> @martinRenou</a> / <a href=\"https://www.linkedin.com/in/martin-renou/\"><i class=\"fa fa-linkedin\"></i> @martin-renou</a></center>\n",
    "\n",
    "<hr>"
   ]
  },
  {
   "cell_type": "markdown",
   "metadata": {
    "slideshow": {
     "slide_type": "slide"
    },
    "tags": []
   },
   "source": [
    "# What is Voilà?\n",
    "\n",
    "- Turns your Jupyter Notebooks into interactive dashboards\n",
    "- A very simple CLI interface *e.g.* `voila notebook.ipynb`, no change to your Notebook required!\n",
    "- An extensible templating system based on Jinja"
   ]
  },
  {
   "cell_type": "markdown",
   "metadata": {
    "slideshow": {
     "slide_type": "slide"
    },
    "tags": []
   },
   "source": [
    "# `voila` demo"
   ]
  },
  {
   "cell_type": "markdown",
   "metadata": {
    "slideshow": {
     "slide_type": "slide"
    },
    "tags": []
   },
   "source": [
    "# Templating\n",
    "\n",
    "- Reveal template TODO link + screenshot\n",
    "- GridStack template TODO link + screenshot\n",
    "- Vuetify template TODO link + screenshot"
   ]
  },
  {
   "cell_type": "markdown",
   "metadata": {
    "slideshow": {
     "slide_type": "slide"
    },
    "tags": []
   },
   "source": [
    "# Pre-heated kernels\n",
    "- It help diminish the waiting time for starting a new python kernel and for executing the requested notebook."
   ]
  },
  {
   "cell_type": "markdown",
   "metadata": {
    "slideshow": {
     "slide_type": "subslide"
    },
    "tags": []
   },
   "source": [
    "## Fully pre-executed notebook\n",
    "<img src=\"https://miro.medium.com/v2/1*djVMI5ujhEq6xVbYJNzuuA.gif\"  width=\"1000\">"
   ]
  },
  {
   "cell_type": "markdown",
   "metadata": {
    "slideshow": {
     "slide_type": "subslide"
    },
    "tags": []
   },
   "source": [
    "## Partially pre-executed notebook\n",
    "<img src=\"https://miro.medium.com/v2/1*Gwq82pb0qAInlPUJm_-JYA.gif\"  width=\"1000\">"
   ]
  },
  {
   "cell_type": "markdown",
   "metadata": {
    "slideshow": {
     "slide_type": "slide"
    },
    "tags": []
   },
   "source": [
    "# Dashboards Gallery\n",
    "\n",
    "https://voila-gallery.org\n",
    "\n",
    "Contribute your dashboards!"
   ]
  },
  {
   "cell_type": "markdown",
   "metadata": {
    "slideshow": {
     "slide_type": "slide"
    },
    "tags": []
   },
   "source": [
    "# Voilà 0.5.0 🏁\n",
    "\n",
    "What's new?! \n",
    "\n",
    "- Similar to the ongoing Jupyter Notebook v7 work: A front-end closer to the JupyterLab ecosystem! \n",
    "- Making use of the JupyterLab mimerendering logic: Support for custom JupyterLab renderers (fasta, vega, geojson, bokeh, and many more!)\n",
    "- Jupyter server v2 support"
   ]
  },
  {
   "cell_type": "markdown",
   "metadata": {
    "slideshow": {
     "slide_type": "slide"
    },
    "tags": []
   },
   "source": [
    "# About JupyterLite 💡\n",
    "\n",
    "TODO"
   ]
  },
  {
   "cell_type": "markdown",
   "metadata": {
    "slideshow": {
     "slide_type": "slide"
    },
    "tags": []
   },
   "source": [
    "# Introducing `Voici`!\n",
    "\n",
    "## `Voici` is: \n",
    "- Another way to say \"Voilà\" in French\n",
    "- `Voici` turns any Jupyter Notebook into a static web application\n",
    "- The perfect match between Voilà and JupyterLite 💡\n"
   ]
  },
  {
   "cell_type": "markdown",
   "metadata": {
    "slideshow": {
     "slide_type": "subslide"
    },
    "tags": []
   },
   "source": [
    "# Introducing `Voici`!\n",
    "\n",
    "## How to use `Voici`: \n",
    "- Available on `PYPI`, soon to be on conda-forge.\n",
    "- `Voici` CLI : `voici my-notebook.ipynb`\n",
    "\n",
    "- Support the same arguments and options of `Voila`: templates, themes,..."
   ]
  },
  {
   "cell_type": "markdown",
   "metadata": {
    "slideshow": {
     "slide_type": "subslide"
    },
    "tags": []
   },
   "source": [
    "# Introducing `Voici`!\n",
    "\n",
    "## `Voici` vs `Voila`: "
   ]
  },
  {
   "cell_type": "markdown",
   "metadata": {
    "slideshow": {
     "slide_type": "fragment"
    },
    "tags": []
   },
   "source": [
    "- Code execution:\n",
    "  - `Voila` uses real kernels running on the server.\n",
    "  - `Voici` uses WASM based kernel running on the browser."
   ]
  },
  {
   "cell_type": "markdown",
   "metadata": {
    "slideshow": {
     "slide_type": "fragment"
    },
    "tags": []
   },
   "source": [
    "- File and network access:\n",
    "  - `Voila` direct access.\n",
    "  - `Voici` file access through service worker, network access can be blocked by CORS."
   ]
  },
  {
   "cell_type": "markdown",
   "metadata": {
    "slideshow": {
     "slide_type": "fragment"
    },
    "tags": []
   },
   "source": [
    "- Code cells exposure:\n",
    "  - `Voila` code cells can be hidden completely.\n",
    "  - `Voici` users have access to the code source of the notebook."
   ]
  },
  {
   "cell_type": "markdown",
   "metadata": {
    "slideshow": {
     "slide_type": "slide"
    },
    "tags": []
   },
   "source": [
    "# This presentation is a Voici dashboard!"
   ]
  },
  {
   "cell_type": "markdown",
   "metadata": {
    "slideshow": {
     "slide_type": "slide"
    },
    "tags": []
   },
   "source": [
    "# Simple code execution"
   ]
  },
  {
   "cell_type": "code",
   "execution_count": null,
   "metadata": {
    "tags": []
   },
   "outputs": [],
   "source": [
    "import this"
   ]
  },
  {
   "cell_type": "code",
   "execution_count": null,
   "metadata": {
    "slideshow": {
     "slide_type": "slide"
    },
    "tags": []
   },
   "outputs": [],
   "source": [
    "import pandas as pd\n",
    "\n",
    "df = pd.read_csv('iris.csv')\n",
    "df"
   ]
  },
  {
   "cell_type": "markdown",
   "metadata": {
    "slideshow": {
     "slide_type": "slide"
    },
    "tags": []
   },
   "source": [
    "# ipywidgets with Python callbacks execution in the page"
   ]
  },
  {
   "cell_type": "code",
   "execution_count": null,
   "metadata": {
    "tags": []
   },
   "outputs": [],
   "source": [
    "import ipywidgets as widgets\n",
    "\n",
    "slider = widgets.FloatSlider(description='$x$')\n",
    "text = widgets.FloatText(disabled=True, description='$x^2$')\n",
    "\n",
    "def compute(*ignore):\n",
    "    text.value = str(slider.value ** 2)\n",
    "\n",
    "slider.observe(compute, 'value')\n",
    "\n",
    "slider.value = 4\n",
    "\n",
    "widgets.VBox([slider, text])"
   ]
  },
  {
   "cell_type": "markdown",
   "metadata": {
    "slideshow": {
     "slide_type": "slide"
    },
    "tags": []
   },
   "source": [
    "# Visualization libraries support"
   ]
  },
  {
   "cell_type": "code",
   "execution_count": null,
   "metadata": {
    "tags": []
   },
   "outputs": [],
   "source": [
    "from ipyleaflet import Map, basemaps, basemap_to_tiles\n",
    "\n",
    "m = Map(center=(50.67, -1.28), zoom=10, basemap=basemaps.OpenStreetMap.Mapnik)\n",
    "m.add(basemap_to_tiles(basemaps.Strava.Water))"
   ]
  },
  {
   "cell_type": "code",
   "execution_count": null,
   "metadata": {
    "slideshow": {
     "slide_type": "slide"
    },
    "tags": []
   },
   "outputs": [],
   "source": [
    "from ipydatagrid import DataGrid\n",
    "from datagrid import renderers\n",
    "from requests import get\n",
    "import json\n",
    "# Load online resource\n",
    "request = get('https://raw.githubusercontent.com/bloomberg/ipydatagrid/main/examples/cars.json')\n",
    "data = json.loads(request.content)\n",
    "df = pd.DataFrame(data[\"data\"])\n",
    "df = df[sorted(df.columns)]\n",
    "\n",
    "datagrid = DataGrid(df, base_row_size=32, base_column_size=150, renderers=renderers)\n",
    "datagrid"
   ]
  },
  {
   "cell_type": "code",
   "execution_count": null,
   "metadata": {
    "slideshow": {
     "slide_type": "slide"
    },
    "tags": []
   },
   "outputs": [],
   "source": [
    "%matplotlib widget\n",
    "\n",
    "import matplotlib.pyplot as plt\n",
    "import numpy as np\n",
    "\n",
    "fig = plt.figure()\n",
    "plt.plot(np.sin(np.linspace(0, 20, 100)));"
   ]
  },
  {
   "cell_type": "code",
   "execution_count": null,
   "metadata": {
    "slideshow": {
     "slide_type": "slide"
    },
    "tags": []
   },
   "outputs": [],
   "source": [
    "import altair as alt\n",
    "import numpy as np\n",
    "import pandas as pd\n",
    "\n",
    "x = np.arange(100)\n",
    "source = pd.DataFrame({\n",
    "  'x': x,\n",
    "  'f(x)': np.sin(x / 5)\n",
    "})\n",
    "\n",
    "alt.Chart(source).mark_line().encode(\n",
    "    x='x',\n",
    "    y='f(x)'\n",
    ")"
   ]
  },
  {
   "cell_type": "markdown",
   "metadata": {
    "slideshow": {
     "slide_type": "slide"
    },
    "tags": []
   },
   "source": [
    "# Make your own Voici deployment 🚀🌕\n",
    "\n",
    "https://github.com/voila-dashboards/voici-demo \n",
    "\n",
    "<center><video src=\"https://user-images.githubusercontent.com/21197331/223079815-0ea78df4-5173-4adc-a2e4-e10b9593a9f4.webm\" width=800 autoplay=true>"
   ]
  },
  {
   "cell_type": "markdown",
   "metadata": {
    "slideshow": {
     "slide_type": "slide"
    },
    "tags": []
   },
   "source": [
    "# Dashboards Gallery\n",
    "\n",
    "https://voila-dashboards.github.io/voici-gallery/\n",
    "\n",
    "<center><img src=\"https://user-images.githubusercontent.com/4451292/236302315-49bb763d-d551-44e1-8a37-ee1f9143c447.png\"  width=\"800\">\n",
    "    "
   ]
  },
  {
   "cell_type": "markdown",
   "metadata": {
    "slideshow": {
     "slide_type": "slide"
    },
    "tags": []
   },
   "source": [
    "# Thank you for your attention!"
   ]
  }
 ],
 "metadata": {
  "kernelspec": {
   "display_name": "Python 3 (ipykernel)",
   "language": "python",
   "name": "python3"
  },
  "language_info": {
   "codemirror_mode": {
    "name": "ipython",
    "version": 3
   },
   "file_extension": ".py",
   "mimetype": "text/x-python",
   "name": "python",
   "nbconvert_exporter": "python",
   "pygments_lexer": "ipython3",
   "version": "3.10.10"
  }
 },
 "nbformat": 4,
 "nbformat_minor": 4
}
